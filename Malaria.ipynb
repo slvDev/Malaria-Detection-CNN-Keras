{
  "nbformat": 4,
  "nbformat_minor": 0,
  "metadata": {
    "colab": {
      "name": "Malaria.ipynb",
      "version": "0.3.2",
      "provenance": [],
      "collapsed_sections": [],
      "include_colab_link": true
    },
    "kernelspec": {
      "name": "python3",
      "display_name": "Python 3"
    },
    "accelerator": "GPU"
  },
  "cells": [
    {
      "cell_type": "markdown",
      "metadata": {
        "id": "view-in-github",
        "colab_type": "text"
      },
      "source": [
        "<a href=\"https://colab.research.google.com/github/slvDev/Malaria-Detection-CNN-Keras/blob/master/Malaria.ipynb\" target=\"_parent\"><img src=\"https://colab.research.google.com/assets/colab-badge.svg\" alt=\"Open In Colab\"/></a>"
      ]
    },
    {
      "cell_type": "code",
      "metadata": {
        "id": "tixRblK6ThvO",
        "colab_type": "code",
        "colab": {}
      },
      "source": [
        "import zipfile\n",
        "import cv2\n",
        "import matplotlib.pyplot as plt\n",
        "import tensorflow as tf\n",
        "from google.colab.patches import cv2_imshow\n",
        "from tensorflow.keras.preprocessing.image import ImageDataGenerator\n",
        "from tensorflow.keras.optimizers import Adam, RMSprop, SGD"
      ],
      "execution_count": 0,
      "outputs": []
    },
    {
      "cell_type": "code",
      "metadata": {
        "id": "1az4zD3-TtFe",
        "colab_type": "code",
        "colab": {}
      },
      "source": [
        "# Load the Drive helper and mount\n",
        "from google.colab import drive\n",
        "\n",
        "# This will prompt for authorization.\n",
        "drive.mount('/content/drive')"
      ],
      "execution_count": 0,
      "outputs": []
    },
    {
      "cell_type": "code",
      "metadata": {
        "id": "ytl7i_XjTyyA",
        "colab_type": "code",
        "colab": {}
      },
      "source": [
        "zip_ref_train = zipfile.ZipFile(\"/content/drive/My Drive/cell-images-for-detecting-malaria.zip\", 'r')\n",
        "zip_ref_train.extractall(\"/content\")\n",
        "zip_ref_train.close()"
      ],
      "execution_count": 0,
      "outputs": []
    },
    {
      "cell_type": "code",
      "metadata": {
        "id": "bSYJfJHfT-6f",
        "colab_type": "code",
        "outputId": "45feaa3f-001e-41d8-ef20-43c2e2cd259a",
        "colab": {
          "base_uri": "https://localhost:8080/",
          "height": 49
        }
      },
      "source": [
        "img_size = 32\n",
        "dim = img_size, img_size\n",
        "img = cv2.imread('/content/cell_images/Parasitized/C100P61ThinF_IMG_20150918_144104_cell_162.png')\n",
        "img = cv2.resize(img, (dim))\n",
        "cv2_imshow(img)"
      ],
      "execution_count": 4,
      "outputs": [
        {
          "output_type": "display_data",
          "data": {
            "image/png": "[encoded data removed]",
            "text/plain": [
              "<PIL.Image.Image image mode=RGB size=32x32 at 0x7F8029BBE198>"
            ]
          },
          "metadata": {
            "tags": []
          }
        }
      ]
    },
    {
      "cell_type": "code",
      "metadata": {
        "id": "gdj46E2dUUup",
        "colab_type": "code",
        "outputId": "3a519c99-821e-4d5a-8498-84d5a3db5b22",
        "colab": {
          "base_uri": "https://localhost:8080/",
          "height": 51
        }
      },
      "source": [
        "train_datagen = ImageDataGenerator(\n",
        "        rescale=1./255,\n",
        "        rotation_range=90,\n",
        "        #shear_range=0.25,\n",
        "        #zoom_range=0.2,\n",
        "        vertical_flip=True,\n",
        "        horizontal_flip=True,\n",
        "        validation_split=0.2,\n",
        "        )\n",
        "\n",
        "train_generator = train_datagen.flow_from_directory(\n",
        "        '/content/cell_images',  \n",
        "        target_size=dim, \n",
        "        batch_size=32,\n",
        "        #color_mode='grayscale',\n",
        "        class_mode='binary',\n",
        "        subset='training',\n",
        "        )\n",
        "\n",
        "valid_generator = train_datagen.flow_from_directory(\n",
        "        '/content/cell_images',  \n",
        "        target_size=dim, \n",
        "        batch_size=32,\n",
        "        #color_mode='grayscale',\n",
        "        class_mode='binary',\n",
        "        subset='validation',\n",
        "        )"
      ],
      "execution_count": 12,
      "outputs": [
        {
          "output_type": "stream",
          "text": [
            "Found 22048 images belonging to 2 classes.\n",
            "Found 5510 images belonging to 2 classes.\n"
          ],
          "name": "stdout"
        }
      ]
    },
    {
      "cell_type": "code",
      "metadata": {
        "id": "0kp_ivMPVTQp",
        "colab_type": "code",
        "colab": {}
      },
      "source": [
        "model = tf.keras.models.Sequential([\n",
        "    tf.keras.layers.Conv2D(16, (3,3), activation='relu', padding='same', input_shape=(32, 32, 3)),\n",
        "    tf.keras.layers.BatchNormalization(),\n",
        "    tf.keras.layers.MaxPooling2D(2, 2),\n",
        "    \n",
        "    tf.keras.layers.Conv2D(32, (3,3), activation='relu', padding='same'),\n",
        "    tf.keras.layers.BatchNormalization(),\n",
        "    tf.keras.layers.MaxPooling2D(2, 2),\n",
        "    \n",
        "    tf.keras.layers.Conv2D(64, (3,3), activation='relu', padding='same'),\n",
        "    tf.keras.layers.BatchNormalization(),\n",
        "    tf.keras.layers.MaxPooling2D(2, 2),\n",
        "    \n",
        "    tf.keras.layers.Flatten(),    \n",
        "    tf.keras.layers.Dropout(0.3),\n",
        "    \n",
        "    tf.keras.layers.Dense(1024, activation='relu'),    \n",
        "    tf.keras.layers.Dense(512, activation='relu'),\n",
        "    \n",
        "    tf.keras.layers.Dense(1, activation='sigmoid')\n",
        "])\n",
        "\n",
        "\n",
        "model.compile(loss='binary_crossentropy',\n",
        "              optimizer='adam',\n",
        "              metrics=['acc'])"
      ],
      "execution_count": 0,
      "outputs": []
    },
    {
      "cell_type": "code",
      "metadata": {
        "id": "kI4B33OyVWC-",
        "colab_type": "code",
        "colab": {}
      },
      "source": [
        "model.summary()"
      ],
      "execution_count": 0,
      "outputs": []
    },
    {
      "cell_type": "code",
      "metadata": {
        "id": "W9YR0I4gVZpm",
        "colab_type": "code",
        "outputId": "96216b1b-ed24-4cf3-a8e8-8084ca16a57a",
        "colab": {
          "base_uri": "https://localhost:8080/",
          "height": 459
        }
      },
      "source": [
        "history = model.fit_generator(\n",
        "        train_generator,\n",
        "        epochs=15,\n",
        "        validation_data=valid_generator,\n",
        "        )"
      ],
      "execution_count": 0,
      "outputs": [
        {
          "output_type": "stream",
          "text": [
            "Epoch 1/15\n",
            "173/173 [==============================] - 10s 55ms/step - loss: 0.2325 - acc: 0.9223\n",
            "689/689 [==============================] - 63s 91ms/step - loss: 0.3657 - acc: 0.8693 - val_loss: 0.2325 - val_acc: 0.9223\n",
            "Epoch 2/15\n",
            "173/173 [==============================] - 9s 54ms/step - loss: 0.2164 - acc: 0.9211\n",
            "689/689 [==============================] - 62s 89ms/step - loss: 0.1637 - acc: 0.9496 - val_loss: 0.2164 - val_acc: 0.9211\n",
            "Epoch 3/15\n",
            "173/173 [==============================] - 9s 55ms/step - loss: 0.1609 - acc: 0.9432\n",
            "689/689 [==============================] - 62s 89ms/step - loss: 0.1504 - acc: 0.9534 - val_loss: 0.1609 - val_acc: 0.9432\n",
            "Epoch 4/15\n",
            "173/173 [==============================] - 10s 55ms/step - loss: 0.1534 - acc: 0.9456\n",
            "689/689 [==============================] - 63s 91ms/step - loss: 0.1458 - acc: 0.9548 - val_loss: 0.1534 - val_acc: 0.9456\n",
            "Epoch 5/15\n",
            "173/173 [==============================] - 10s 55ms/step - loss: 0.1480 - acc: 0.9472\n",
            "689/689 [==============================] - 63s 91ms/step - loss: 0.1415 - acc: 0.9565 - val_loss: 0.1480 - val_acc: 0.9472\n",
            "Epoch 6/15\n",
            "173/173 [==============================] - 10s 56ms/step - loss: 0.6270 - acc: 0.5004\n",
            "689/689 [==============================] - 63s 91ms/step - loss: 0.1323 - acc: 0.9569 - val_loss: 0.6270 - val_acc: 0.5004\n",
            "Epoch 7/15\n",
            "173/173 [==============================] - 10s 55ms/step - loss: 0.1433 - acc: 0.9485\n",
            "689/689 [==============================] - 63s 91ms/step - loss: 0.1297 - acc: 0.9572 - val_loss: 0.1433 - val_acc: 0.9485\n",
            "Epoch 8/15\n",
            "173/173 [==============================] - 9s 54ms/step - loss: 0.1496 - acc: 0.9479\n",
            "689/689 [==============================] - 62s 90ms/step - loss: 0.1273 - acc: 0.9585 - val_loss: 0.1496 - val_acc: 0.9479\n",
            "Epoch 9/15\n",
            "548/689 [======================>.......] - ETA: 10s - loss: 0.1236 - acc: 0.9593"
          ],
          "name": "stdout"
        }
      ]
    },
    {
      "cell_type": "code",
      "metadata": {
        "id": "dg1viO4cecLW",
        "colab_type": "code",
        "outputId": "a4cfe8cb-b80c-49b8-bff3-e169e3bb572e",
        "colab": {
          "base_uri": "https://localhost:8080/",
          "height": 295
        }
      },
      "source": [
        "plt.plot(history.history['acc'])\n",
        "plt.plot(history.history['val_acc'])\n",
        "plt.title('model accuracy')\n",
        "plt.ylabel('accuracy')\n",
        "plt.xlabel('epoch')\n",
        "plt.legend(['train', 'test'], loc='upper left')\n",
        "plt.show()"
      ],
      "execution_count": 15,
      "outputs": [
        {
          "output_type": "display_data",
          "data": {
            "image/png": "[encoded data removed]",
            "text/plain": [
              "<Figure size 432x288 with 1 Axes>"
            ]
          },
          "metadata": {
            "tags": []
          }
        }
      ]
    },
    {
      "cell_type": "code",
      "metadata": {
        "id": "hUkVMeC9ef83",
        "colab_type": "code",
        "outputId": "eb81b28c-5277-432c-8b62-7621b47c7560",
        "colab": {
          "base_uri": "https://localhost:8080/",
          "height": 295
        }
      },
      "source": [
        "plt.plot(history.history['loss'])\n",
        "plt.plot(history.history['val_loss'])\n",
        "plt.title('model loss')\n",
        "plt.ylabel('loss')\n",
        "plt.xlabel('epoch')\n",
        "plt.legend(['train', 'test'], loc='upper left')\n",
        "plt.show()"
      ],
      "execution_count": 16,
      "outputs": [
        {
          "output_type": "display_data",
          "data": {
            "image/png": "[encoded data removed]",
            "text/plain": [
              "<Figure size 432x288 with 1 Axes>"
            ]
          },
          "metadata": {
            "tags": []
          }
        }
      ]
    }
  ]
}