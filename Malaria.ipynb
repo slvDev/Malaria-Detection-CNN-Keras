{
  "nbformat": 4,
  "nbformat_minor": 0,
  "metadata": {
    "colab": {
      "name": "Malaria.ipynb",
      "version": "0.3.2",
      "provenance": [],
      "collapsed_sections": [],
      "include_colab_link": true
    },
    "kernelspec": {
      "name": "python3",
      "display_name": "Python 3"
    },
    "accelerator": "GPU"
  },
  "cells": [
    {
      "cell_type": "markdown",
      "metadata": {
        "id": "view-in-github",
        "colab_type": "text"
      },
      "source": [
        "<a href=\"https://colab.research.google.com/github/slvDev/Malaria-Detection-CNN-Keras/blob/master/Malaria.ipynb\" target=\"_parent\"><img src=\"https://colab.research.google.com/assets/colab-badge.svg\" alt=\"Open In Colab\"/></a>"
      ]
    },
    {
      "cell_type": "code",
      "metadata": {
        "id": "tixRblK6ThvO",
        "colab_type": "code",
        "colab": {}
      },
      "source": [
        "import zipfile\n",
        "import cv2\n",
        "import matplotlib.pyplot as plt\n",
        "import tensorflow as tf\n",
        "from google.colab.patches import cv2_imshow\n",
        "from tensorflow.keras.preprocessing.image import ImageDataGenerator\n",
        "from tensorflow.keras.optimizers import Adam, RMSprop, SGD"
      ],
      "execution_count": 0,
      "outputs": []
    },
    {
      "cell_type": "code",
      "metadata": {
        "id": "1az4zD3-TtFe",
        "colab_type": "code",
        "colab": {}
      },
      "source": [
        "# Load the Drive helper and mount\n",
        "from google.colab import drive\n",
        "\n",
        "# This will prompt for authorization.\n",
        "drive.mount('/content/drive')"
      ],
      "execution_count": 0,
      "outputs": []
    },
    {
      "cell_type": "code",
      "metadata": {
        "id": "ytl7i_XjTyyA",
        "colab_type": "code",
        "colab": {}
      },
      "source": [
        "zip_ref_train = zipfile.ZipFile(\"/content/drive/My Drive/cell-images-for-detecting-malaria.zip\", 'r')\n",
        "zip_ref_train.extractall(\"/content\")\n",
        "zip_ref_train.close()"
      ],
      "execution_count": 0,
      "outputs": []
    },
    {
      "cell_type": "code",
      "metadata": {
        "id": "bSYJfJHfT-6f",
        "colab_type": "code",
        "outputId": "01eecee7-6b87-41a3-eaf7-74fc45bc8cd4",
        "colab": {
          "base_uri": "https://localhost:8080/",
          "height": 49
        }
      },
      "source": [
        "img_size = 32\n",
        "dim = img_size, img_size\n",
        "img = cv2.imread('/content/cell_images/Parasitized/C100P61ThinF_IMG_20150918_144104_cell_162.png')\n",
        "img = cv2.resize(img, (dim))\n",
        "cv2_imshow(img)"
      ],
      "execution_count": 20,
      "outputs": [
        {
          "output_type": "display_data",
          "data": {
            "image/png": "[encoded data removed]",
            "text/plain": [
              "<PIL.Image.Image image mode=RGB size=32x32 at 0x7F80103A8828>"
            ]
          },
          "metadata": {
            "tags": []
          }
        }
      ]
    },
    {
      "cell_type": "code",
      "metadata": {
        "id": "gdj46E2dUUup",
        "colab_type": "code",
        "outputId": "0a17904e-1c3f-4997-e51c-f711a32d0061",
        "colab": {
          "base_uri": "https://localhost:8080/",
          "height": 51
        }
      },
      "source": [
        "train_datagen = ImageDataGenerator(\n",
        "        rescale=1./255,\n",
        "        rotation_range=90,\n",
        "        #shear_range=0.25,\n",
        "        #zoom_range=0.2,\n",
        "        vertical_flip=True,\n",
        "        horizontal_flip=True,\n",
        "        validation_split=0.2,\n",
        "        )\n",
        "\n",
        "train_generator = train_datagen.flow_from_directory(\n",
        "        '/content/cell_images',  \n",
        "        target_size=dim, \n",
        "        batch_size=32,\n",
        "        #color_mode='grayscale',\n",
        "        class_mode='binary',\n",
        "        subset='training',\n",
        "        )\n",
        "\n",
        "valid_generator = train_datagen.flow_from_directory(\n",
        "        '/content/cell_images',  \n",
        "        target_size=dim, \n",
        "        batch_size=32,\n",
        "        #color_mode='grayscale',\n",
        "        class_mode='binary',\n",
        "        subset='validation',\n",
        "        )"
      ],
      "execution_count": 21,
      "outputs": [
        {
          "output_type": "stream",
          "text": [
            "Found 22048 images belonging to 2 classes.\n",
            "Found 5510 images belonging to 2 classes.\n"
          ],
          "name": "stdout"
        }
      ]
    },
    {
      "cell_type": "code",
      "metadata": {
        "id": "0kp_ivMPVTQp",
        "colab_type": "code",
        "colab": {}
      },
      "source": [
        "model = tf.keras.models.Sequential([\n",
        "    tf.keras.layers.Conv2D(16, (3,3), activation='relu', padding='same', input_shape=(32, 32, 3)),\n",
        "    tf.keras.layers.BatchNormalization(),\n",
        "    tf.keras.layers.MaxPooling2D(2, 2),\n",
        "    \n",
        "    tf.keras.layers.Conv2D(32, (3,3), activation='relu', padding='same'),\n",
        "    tf.keras.layers.BatchNormalization(),\n",
        "    tf.keras.layers.MaxPooling2D(2, 2),\n",
        "    \n",
        "    tf.keras.layers.Conv2D(64, (3,3), activation='relu', padding='same'),\n",
        "    tf.keras.layers.BatchNormalization(),\n",
        "    tf.keras.layers.MaxPooling2D(2, 2),\n",
        "    \n",
        "    tf.keras.layers.Flatten(),    \n",
        "    tf.keras.layers.Dropout(0.3),\n",
        "    \n",
        "    tf.keras.layers.Dense(1024, activation='relu'),    \n",
        "    tf.keras.layers.Dense(512, activation='relu'),\n",
        "    \n",
        "    tf.keras.layers.Dense(1, activation='sigmoid')\n",
        "])\n",
        "\n",
        "\n",
        "model.compile(loss='binary_crossentropy',\n",
        "              optimizer='adam',\n",
        "              metrics=['acc'])"
      ],
      "execution_count": 0,
      "outputs": []
    },
    {
      "cell_type": "code",
      "metadata": {
        "id": "kI4B33OyVWC-",
        "colab_type": "code",
        "colab": {}
      },
      "source": [
        "model.summary()"
      ],
      "execution_count": 0,
      "outputs": []
    },
    {
      "cell_type": "code",
      "metadata": {
        "id": "W9YR0I4gVZpm",
        "colab_type": "code",
        "outputId": "a8539372-93e8-4f1b-ab02-4483fc743275",
        "colab": {
          "base_uri": "https://localhost:8080/",
          "height": 782
        }
      },
      "source": [
        "history = model.fit_generator(\n",
        "        train_generator,\n",
        "        epochs=15,\n",
        "        validation_data=valid_generator,\n",
        "        )"
      ],
      "execution_count": 23,
      "outputs": [
        {
          "output_type": "stream",
          "text": [
            "Epoch 1/15\n",
            "173/173 [==============================] - 10s 57ms/step - loss: 0.1948 - acc: 0.9274\n",
            "689/689 [==============================] - 64s 93ms/step - loss: 0.3367 - acc: 0.8592 - val_loss: 0.1948 - val_acc: 0.9274\n",
            "Epoch 2/15\n",
            "173/173 [==============================] - 10s 56ms/step - loss: 0.1902 - acc: 0.9354\n",
            "689/689 [==============================] - 63s 92ms/step - loss: 0.1777 - acc: 0.9440 - val_loss: 0.1902 - val_acc: 0.9354\n",
            "Epoch 3/15\n",
            "173/173 [==============================] - 10s 56ms/step - loss: 0.2002 - acc: 0.9328\n",
            "689/689 [==============================] - 63s 91ms/step - loss: 0.1589 - acc: 0.9492 - val_loss: 0.2002 - val_acc: 0.9328\n",
            "Epoch 4/15\n",
            "173/173 [==============================] - 9s 54ms/step - loss: 0.4897 - acc: 0.6488\n",
            "689/689 [==============================] - 62s 90ms/step - loss: 0.1488 - acc: 0.9528 - val_loss: 0.4897 - val_acc: 0.6488\n",
            "Epoch 5/15\n",
            "173/173 [==============================] - 9s 55ms/step - loss: 0.2040 - acc: 0.9436\n",
            "689/689 [==============================] - 62s 90ms/step - loss: 0.1446 - acc: 0.9549 - val_loss: 0.2040 - val_acc: 0.9436\n",
            "Epoch 6/15\n",
            "173/173 [==============================] - 9s 55ms/step - loss: 0.1638 - acc: 0.9452\n",
            "689/689 [==============================] - 62s 90ms/step - loss: 0.1383 - acc: 0.9556 - val_loss: 0.1638 - val_acc: 0.9452\n",
            "Epoch 7/15\n",
            "173/173 [==============================] - 10s 55ms/step - loss: 0.1418 - acc: 0.9485\n",
            "689/689 [==============================] - 61s 89ms/step - loss: 0.1351 - acc: 0.9577 - val_loss: 0.1418 - val_acc: 0.9485\n",
            "Epoch 8/15\n",
            "173/173 [==============================] - 10s 55ms/step - loss: 0.1714 - acc: 0.9470\n",
            "689/689 [==============================] - 62s 90ms/step - loss: 0.1308 - acc: 0.9576 - val_loss: 0.1714 - val_acc: 0.9470\n",
            "Epoch 9/15\n",
            "173/173 [==============================] - 9s 54ms/step - loss: 0.1542 - acc: 0.9495\n",
            "689/689 [==============================] - 62s 90ms/step - loss: 0.1281 - acc: 0.9585 - val_loss: 0.1542 - val_acc: 0.9495\n",
            "Epoch 10/15\n",
            "173/173 [==============================] - 10s 55ms/step - loss: 0.1426 - acc: 0.9499\n",
            "689/689 [==============================] - 62s 89ms/step - loss: 0.1273 - acc: 0.9597 - val_loss: 0.1426 - val_acc: 0.9499\n",
            "Epoch 11/15\n",
            "173/173 [==============================] - 10s 56ms/step - loss: 0.1503 - acc: 0.9501\n",
            "689/689 [==============================] - 62s 90ms/step - loss: 0.1217 - acc: 0.9604 - val_loss: 0.1503 - val_acc: 0.9501\n",
            "Epoch 12/15\n",
            "173/173 [==============================] - 10s 56ms/step - loss: 0.1369 - acc: 0.9530\n",
            "689/689 [==============================] - 62s 90ms/step - loss: 0.1204 - acc: 0.9592 - val_loss: 0.1369 - val_acc: 0.9530\n",
            "Epoch 13/15\n",
            "173/173 [==============================] - 9s 55ms/step - loss: 0.1609 - acc: 0.9494\n",
            "689/689 [==============================] - 62s 89ms/step - loss: 0.1187 - acc: 0.9603 - val_loss: 0.1609 - val_acc: 0.9494\n",
            "Epoch 14/15\n",
            "173/173 [==============================] - 9s 54ms/step - loss: 0.1537 - acc: 0.9479\n",
            "689/689 [==============================] - 62s 89ms/step - loss: 0.1182 - acc: 0.9614 - val_loss: 0.1537 - val_acc: 0.9479\n",
            "Epoch 15/15\n",
            "173/173 [==============================] - 10s 56ms/step - loss: 0.1305 - acc: 0.9526\n",
            "689/689 [==============================] - 62s 90ms/step - loss: 0.1161 - acc: 0.9616 - val_loss: 0.1305 - val_acc: 0.9526\n"
          ],
          "name": "stdout"
        }
      ]
    },
    {
      "cell_type": "code",
      "metadata": {
        "id": "dg1viO4cecLW",
        "colab_type": "code",
        "outputId": "bc47b6c7-b75d-42ea-a7cb-052d9150e635",
        "colab": {
          "base_uri": "https://localhost:8080/",
          "height": 295
        }
      },
      "source": [
        "plt.plot(history.history['acc'])\n",
        "plt.plot(history.history['val_acc'])\n",
        "plt.title('model accuracy')\n",
        "plt.ylabel('accuracy')\n",
        "plt.xlabel('epoch')\n",
        "plt.legend(['train', 'test'], loc='upper left')\n",
        "plt.show()"
      ],
      "execution_count": 26,
      "outputs": [
        {
          "output_type": "display_data",
          "data": {
            "image/png": "[encoded data removed]",
            "text/plain": [
              "<Figure size 432x288 with 1 Axes>"
            ]
          },
          "metadata": {
            "tags": []
          }
        }
      ]
    },
    {
      "cell_type": "code",
      "metadata": {
        "id": "hUkVMeC9ef83",
        "colab_type": "code",
        "outputId": "f5a7f238-4fd8-4ec8-fa8d-98fcba5a9dbf",
        "colab": {
          "base_uri": "https://localhost:8080/",
          "height": 295
        }
      },
      "source": [
        "plt.plot(history.history['loss'])\n",
        "plt.plot(history.history['val_loss'])\n",
        "plt.title('model loss')\n",
        "plt.ylabel('loss')\n",
        "plt.xlabel('epoch')\n",
        "plt.legend(['train', 'test'], loc='upper left')\n",
        "plt.show()"
      ],
      "execution_count": 25,
      "outputs": [
        {
          "output_type": "display_data",
          "data": {
            "image/png": "[encoded data removed]",
            "text/plain": [
              "<Figure size 432x288 with 1 Axes>"
            ]
          },
          "metadata": {
            "tags": []
          }
        }
      ]
    }
  ]
}