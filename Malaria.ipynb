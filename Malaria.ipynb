{
  "nbformat": 4,
  "nbformat_minor": 0,
  "metadata": {
    "colab": {
      "name": "Malaria.ipynb",
      "version": "0.3.2",
      "provenance": [],
      "collapsed_sections": [],
      "include_colab_link": true
    },
    "kernelspec": {
      "name": "python3",
      "display_name": "Python 3"
    },
    "accelerator": "GPU"
  },
  "cells": [
    {
      "cell_type": "markdown",
      "metadata": {
        "id": "view-in-github",
        "colab_type": "text"
      },
      "source": [
        "<a href=\"https://colab.research.google.com/github/slvDev/Malaria-Detection-CNN-Keras/blob/master/Malaria.ipynb\" target=\"_parent\"><img src=\"https://colab.research.google.com/assets/colab-badge.svg\" alt=\"Open In Colab\"/></a>"
      ]
    },
    {
      "cell_type": "code",
      "metadata": {
        "id": "tixRblK6ThvO",
        "colab_type": "code",
        "colab": {}
      },
      "source": [
        "import zipfile\n",
        "import cv2\n",
        "import matplotlib.pyplot as plt\n",
        "import tensorflow as tf\n",
        "from google.colab.patches import cv2_imshow\n",
        "from tensorflow.keras.preprocessing.image import ImageDataGenerator\n",
        "from tensorflow.keras.optimizers import Adam, RMSprop, SGD"
      ],
      "execution_count": 0,
      "outputs": []
    },
    {
      "cell_type": "code",
      "metadata": {
        "id": "1az4zD3-TtFe",
        "colab_type": "code",
        "outputId": "c3ed00d6-0bff-47e8-e42a-52c47d23c82b",
        "colab": {
          "base_uri": "https://localhost:8080/",
          "height": 122
        }
      },
      "source": [
        "# Load the Drive helper and mount\n",
        "from google.colab import drive\n",
        "\n",
        "# This will prompt for authorization.\n",
        "drive.mount('/content/drive')"
      ],
      "execution_count": 0,
      "outputs": [
        {
          "output_type": "stream",
          "text": [
            "Go to this URL in a browser: https://accounts.google.com/o/oauth2/auth?client_id=947318989803-6bn6qk8qdgf4n4g3pfee6491hc0brc4i.apps.googleusercontent.com&redirect_uri=urn%3Aietf%3Awg%3Aoauth%3A2.0%3Aoob&scope=email%20https%3A%2F%2Fwww.googleapis.com%2Fauth%2Fdocs.test%20https%3A%2F%2Fwww.googleapis.com%2Fauth%2Fdrive%20https%3A%2F%2Fwww.googleapis.com%2Fauth%2Fdrive.photos.readonly%20https%3A%2F%2Fwww.googleapis.com%2Fauth%2Fpeopleapi.readonly&response_type=code\n",
            "\n",
            "Enter your authorization code:\n",
            "··········\n",
            "Mounted at /content/drive\n"
          ],
          "name": "stdout"
        }
      ]
    },
    {
      "cell_type": "code",
      "metadata": {
        "id": "ytl7i_XjTyyA",
        "colab_type": "code",
        "colab": {}
      },
      "source": [
        "zip_ref_train = zipfile.ZipFile(\"/content/drive/My Drive/cell-images-for-detecting-malaria.zip\", 'r')\n",
        "zip_ref_train.extractall(\"/content\")\n",
        "zip_ref_train.close()"
      ],
      "execution_count": 0,
      "outputs": []
    },
    {
      "cell_type": "code",
      "metadata": {
        "id": "bSYJfJHfT-6f",
        "colab_type": "code",
        "outputId": "51374a5f-97f7-45b0-c422-eed349e93be6",
        "colab": {
          "base_uri": "https://localhost:8080/",
          "height": 145
        }
      },
      "source": [
        "img_size = 128\n",
        "dim = img_size, img_size\n",
        "img = cv2.imread('/content/cell_images/Parasitized/C100P61ThinF_IMG_20150918_144104_cell_162.png')\n",
        "img = cv2.resize(img, (dim))\n",
        "cv2_imshow(img)"
      ],
      "execution_count": 0,
      "outputs": [
        {
          "output_type": "display_data",
          "data": {
            "image/png": "[encoded data removed]",
            "text/plain": [
              "<PIL.Image.Image image mode=RGB size=128x128 at 0x7F9B8FDDF828>"
            ]
          },
          "metadata": {
            "tags": []
          }
        }
      ]
    },
    {
      "cell_type": "code",
      "metadata": {
        "id": "gdj46E2dUUup",
        "colab_type": "code",
        "outputId": "089880d4-f928-4484-cd7a-e164d7be8ade",
        "colab": {
          "base_uri": "https://localhost:8080/",
          "height": 51
        }
      },
      "source": [
        "train_datagen = ImageDataGenerator(\n",
        "        rescale=1./255,\n",
        "        rotation_range=90,\n",
        "        shear_range=0.25,\n",
        "        #zoom_range=0.2,\n",
        "        vertical_flip=True,\n",
        "        horizontal_flip=True,\n",
        "        validation_split=0.2,\n",
        "        )\n",
        "\n",
        "train_generator = train_datagen.flow_from_directory(\n",
        "        '/content/cell_images',  \n",
        "        target_size=dim, \n",
        "        batch_size=16,\n",
        "        #color_mode='grayscale',\n",
        "        class_mode='binary',\n",
        "        subset='training',\n",
        "        )\n",
        "\n",
        "valid_generator = train_datagen.flow_from_directory(\n",
        "        '/content/cell_images',  \n",
        "        target_size=dim, \n",
        "        batch_size=16,\n",
        "        #color_mode='grayscale',\n",
        "        class_mode='binary',\n",
        "        subset='validation',\n",
        "        )"
      ],
      "execution_count": 0,
      "outputs": [
        {
          "output_type": "stream",
          "text": [
            "Found 22048 images belonging to 2 classes.\n",
            "Found 5510 images belonging to 2 classes.\n"
          ],
          "name": "stdout"
        }
      ]
    },
    {
      "cell_type": "code",
      "metadata": {
        "id": "0kp_ivMPVTQp",
        "colab_type": "code",
        "outputId": "165d7ef6-16d0-4fd2-c883-3c09c0328761",
        "colab": {
          "base_uri": "https://localhost:8080/",
          "height": 139
        }
      },
      "source": [
        "model = tf.keras.models.Sequential([\n",
        "    tf.keras.layers.Conv2D(16, (3,3), activation='relu', padding='same', input_shape=(128, 128, 3)),\n",
        "    tf.keras.layers.BatchNormalization(),\n",
        "    tf.keras.layers.MaxPooling2D(2, 2),\n",
        "    \n",
        "    tf.keras.layers.Conv2D(32, (3,3), activation='relu', padding='same'),\n",
        "    tf.keras.layers.BatchNormalization(),\n",
        "    tf.keras.layers.MaxPooling2D(2, 2),\n",
        "    \n",
        "    tf.keras.layers.Conv2D(64, (3,3), activation='relu', padding='same'),\n",
        "    tf.keras.layers.BatchNormalization(),\n",
        "    tf.keras.layers.MaxPooling2D(2, 2),\n",
        "    \n",
        "    tf.keras.layers.Conv2D(128, (3,3), activation='relu', padding='same'),\n",
        "    tf.keras.layers.BatchNormalization(),\n",
        "    tf.keras.layers.MaxPooling2D(2, 2),\n",
        "    \n",
        "    tf.keras.layers.Conv2D(256, (3,3), activation='relu', padding='same'),\n",
        "    tf.keras.layers.BatchNormalization(),\n",
        "    tf.keras.layers.MaxPooling2D(2, 2),\n",
        "    \n",
        "    tf.keras.layers.Flatten(),    \n",
        "    tf.keras.layers.Dropout(0.3),\n",
        "    \n",
        "    tf.keras.layers.Dense(1024, activation='relu'),  \n",
        "    tf.keras.layers.Dropout(0.3),\n",
        "    \n",
        "    tf.keras.layers.Dense(512, activation='relu'),\n",
        "    tf.keras.layers.Dropout(0.3),\n",
        "    \n",
        "    tf.keras.layers.Dense(1, activation='sigmoid')\n",
        "])\n",
        "\n",
        "\n",
        "model.compile(loss='binary_crossentropy',\n",
        "              optimizer='adam',\n",
        "              metrics=['acc'])"
      ],
      "execution_count": 0,
      "outputs": [
        {
          "output_type": "stream",
          "text": [
            "WARNING:tensorflow:From /usr/local/lib/python3.6/dist-packages/tensorflow/python/ops/resource_variable_ops.py:435: colocate_with (from tensorflow.python.framework.ops) is deprecated and will be removed in a future version.\n",
            "Instructions for updating:\n",
            "Colocations handled automatically by placer.\n",
            "WARNING:tensorflow:From /usr/local/lib/python3.6/dist-packages/tensorflow/python/keras/layers/core.py:143: calling dropout (from tensorflow.python.ops.nn_ops) with keep_prob is deprecated and will be removed in a future version.\n",
            "Instructions for updating:\n",
            "Please use `rate` instead of `keep_prob`. Rate should be set to `rate = 1 - keep_prob`.\n"
          ],
          "name": "stdout"
        }
      ]
    },
    {
      "cell_type": "code",
      "metadata": {
        "id": "kI4B33OyVWC-",
        "colab_type": "code",
        "colab": {}
      },
      "source": [
        "model.summary()"
      ],
      "execution_count": 0,
      "outputs": []
    },
    {
      "cell_type": "code",
      "metadata": {
        "id": "W9YR0I4gVZpm",
        "colab_type": "code",
        "outputId": "b1bf6f02-2e28-4d4b-86a7-d2cc44684c4c",
        "colab": {
          "base_uri": "https://localhost:8080/",
          "height": 2128
        }
      },
      "source": [
        "history = model.fit_generator(\n",
        "      train_generator,\n",
        "      #steps_per_epoch=steps_per_epoch,\n",
        "      epochs=40,\n",
        "      #verbose=1,\n",
        "      validation_data=valid_generator,\n",
        "      #validation_steps=validation_steps,\n",
        "      shuffle=True\n",
        "      )"
      ],
      "execution_count": 0,
      "outputs": [
        {
          "output_type": "stream",
          "text": [
            "WARNING:tensorflow:From /usr/local/lib/python3.6/dist-packages/tensorflow/python/ops/math_ops.py:3066: to_int32 (from tensorflow.python.ops.math_ops) is deprecated and will be removed in a future version.\n",
            "Instructions for updating:\n",
            "Use tf.cast instead.\n",
            "Epoch 1/40\n",
            "345/345 [==============================] - 26s 76ms/step - loss: 0.2488 - acc: 0.9377\n",
            "1378/1378 [==============================] - 173s 125ms/step - loss: 0.3224 - acc: 0.9102 - val_loss: 0.2488 - val_acc: 0.9377\n",
            "Epoch 2/40\n",
            "345/345 [==============================] - 26s 75ms/step - loss: 0.1905 - acc: 0.9456\n",
            "1378/1378 [==============================] - 166s 121ms/step - loss: 0.1683 - acc: 0.9521 - val_loss: 0.1905 - val_acc: 0.9456\n",
            "Epoch 3/40\n",
            "345/345 [==============================] - 25s 73ms/step - loss: 0.1749 - acc: 0.9446\n",
            "1378/1378 [==============================] - 164s 119ms/step - loss: 0.1615 - acc: 0.9555 - val_loss: 0.1749 - val_acc: 0.9446\n",
            "Epoch 4/40\n",
            "345/345 [==============================] - 26s 75ms/step - loss: 0.2404 - acc: 0.9283\n",
            "1378/1378 [==============================] - 165s 119ms/step - loss: 0.1572 - acc: 0.9552 - val_loss: 0.2404 - val_acc: 0.9283\n",
            "Epoch 5/40\n",
            "345/345 [==============================] - 26s 74ms/step - loss: 0.1675 - acc: 0.9423\n",
            "1378/1378 [==============================] - 164s 119ms/step - loss: 0.1652 - acc: 0.9545 - val_loss: 0.1675 - val_acc: 0.9423\n",
            "Epoch 6/40\n",
            "345/345 [==============================] - 25s 73ms/step - loss: 0.2075 - acc: 0.9472\n",
            "1378/1378 [==============================] - 164s 119ms/step - loss: 0.1571 - acc: 0.9558 - val_loss: 0.2075 - val_acc: 0.9472\n",
            "Epoch 7/40\n",
            "345/345 [==============================] - 25s 73ms/step - loss: 0.1593 - acc: 0.9450\n",
            "1378/1378 [==============================] - 163s 118ms/step - loss: 0.1520 - acc: 0.9561 - val_loss: 0.1593 - val_acc: 0.9450\n",
            "Epoch 8/40\n",
            "345/345 [==============================] - 25s 73ms/step - loss: 0.1511 - acc: 0.9499\n",
            "1378/1378 [==============================] - 163s 118ms/step - loss: 0.1449 - acc: 0.9577 - val_loss: 0.1511 - val_acc: 0.9499\n",
            "Epoch 9/40\n",
            "345/345 [==============================] - 25s 73ms/step - loss: 0.1630 - acc: 0.9474\n",
            "1378/1378 [==============================] - 162s 118ms/step - loss: 0.1431 - acc: 0.9573 - val_loss: 0.1630 - val_acc: 0.9474\n",
            "Epoch 10/40\n",
            "345/345 [==============================] - 25s 73ms/step - loss: 0.1542 - acc: 0.9474\n",
            "1378/1378 [==============================] - 163s 118ms/step - loss: 0.1362 - acc: 0.9594 - val_loss: 0.1542 - val_acc: 0.9474\n",
            "Epoch 11/40\n",
            "345/345 [==============================] - 25s 73ms/step - loss: 0.1845 - acc: 0.9497\n",
            "1378/1378 [==============================] - 162s 118ms/step - loss: 0.1380 - acc: 0.9598 - val_loss: 0.1845 - val_acc: 0.9497\n",
            "Epoch 12/40\n",
            "345/345 [==============================] - 25s 73ms/step - loss: 0.1339 - acc: 0.9557\n",
            "1378/1378 [==============================] - 162s 118ms/step - loss: 0.1330 - acc: 0.9604 - val_loss: 0.1339 - val_acc: 0.9557\n",
            "Epoch 13/40\n",
            "345/345 [==============================] - 26s 74ms/step - loss: 0.1466 - acc: 0.9488\n",
            "1378/1378 [==============================] - 166s 120ms/step - loss: 0.1271 - acc: 0.9631 - val_loss: 0.1466 - val_acc: 0.9488\n",
            "Epoch 14/40\n",
            "345/345 [==============================] - 25s 73ms/step - loss: 0.1253 - acc: 0.9564\n",
            "1378/1378 [==============================] - 164s 119ms/step - loss: 0.1215 - acc: 0.9634 - val_loss: 0.1253 - val_acc: 0.9564\n",
            "Epoch 15/40\n",
            "345/345 [==============================] - 25s 73ms/step - loss: 0.1347 - acc: 0.9541\n",
            "1378/1378 [==============================] - 163s 118ms/step - loss: 0.1214 - acc: 0.9624 - val_loss: 0.1347 - val_acc: 0.9541\n",
            "Epoch 16/40\n",
            "345/345 [==============================] - 25s 73ms/step - loss: 0.2225 - acc: 0.9376\n",
            "1378/1378 [==============================] - 163s 118ms/step - loss: 0.1156 - acc: 0.9648 - val_loss: 0.2225 - val_acc: 0.9376\n",
            "Epoch 17/40\n",
            "345/345 [==============================] - 25s 73ms/step - loss: 0.1387 - acc: 0.9546\n",
            "1378/1378 [==============================] - 162s 118ms/step - loss: 0.1173 - acc: 0.9643 - val_loss: 0.1387 - val_acc: 0.9546\n",
            "Epoch 18/40\n",
            "345/345 [==============================] - 25s 73ms/step - loss: 0.1422 - acc: 0.9528\n",
            "1378/1378 [==============================] - 162s 118ms/step - loss: 0.1163 - acc: 0.9653 - val_loss: 0.1422 - val_acc: 0.9528\n",
            "Epoch 19/40\n",
            "345/345 [==============================] - 25s 73ms/step - loss: 0.1302 - acc: 0.9550\n",
            "1378/1378 [==============================] - 162s 117ms/step - loss: 0.1098 - acc: 0.9638 - val_loss: 0.1302 - val_acc: 0.9550\n",
            "Epoch 20/40\n",
            "345/345 [==============================] - 25s 73ms/step - loss: 0.1351 - acc: 0.9530\n",
            "1378/1378 [==============================] - 162s 118ms/step - loss: 0.1137 - acc: 0.9650 - val_loss: 0.1351 - val_acc: 0.9530\n",
            "Epoch 21/40\n",
            "345/345 [==============================] - 26s 76ms/step - loss: 0.1390 - acc: 0.9552\n",
            "1378/1378 [==============================] - 167s 121ms/step - loss: 0.1134 - acc: 0.9647 - val_loss: 0.1390 - val_acc: 0.9552\n",
            "Epoch 22/40\n",
            "345/345 [==============================] - 27s 78ms/step - loss: 0.1376 - acc: 0.9546\n",
            "1378/1378 [==============================] - 173s 125ms/step - loss: 0.1110 - acc: 0.9647 - val_loss: 0.1376 - val_acc: 0.9546\n",
            "Epoch 23/40\n",
            "345/345 [==============================] - 26s 75ms/step - loss: 0.1252 - acc: 0.9555\n",
            "1378/1378 [==============================] - 169s 122ms/step - loss: 0.1101 - acc: 0.9656 - val_loss: 0.1252 - val_acc: 0.9555\n",
            "Epoch 24/40\n",
            "345/345 [==============================] - 26s 75ms/step - loss: 0.1409 - acc: 0.9575\n",
            "1378/1378 [==============================] - 164s 119ms/step - loss: 0.1080 - acc: 0.9661 - val_loss: 0.1409 - val_acc: 0.9575\n",
            "Epoch 25/40\n",
            "345/345 [==============================] - 26s 76ms/step - loss: 0.1467 - acc: 0.9494\n",
            "1378/1378 [==============================] - 165s 120ms/step - loss: 0.1067 - acc: 0.9663 - val_loss: 0.1467 - val_acc: 0.9494\n",
            "Epoch 26/40\n",
            "345/345 [==============================] - 25s 73ms/step - loss: 0.1379 - acc: 0.9593\n",
            "1378/1378 [==============================] - 165s 120ms/step - loss: 0.1071 - acc: 0.9656 - val_loss: 0.1379 - val_acc: 0.9593\n",
            "Epoch 27/40\n",
            "345/345 [==============================] - 25s 73ms/step - loss: 0.1514 - acc: 0.9586\n",
            "1378/1378 [==============================] - 163s 118ms/step - loss: 0.1089 - acc: 0.9672 - val_loss: 0.1514 - val_acc: 0.9586\n",
            "Epoch 28/40\n",
            "345/345 [==============================] - 26s 75ms/step - loss: 0.1540 - acc: 0.9486\n",
            "1378/1378 [==============================] - 171s 124ms/step - loss: 0.1067 - acc: 0.9671 - val_loss: 0.1540 - val_acc: 0.9486\n",
            "Epoch 29/40\n",
            "345/345 [==============================] - 26s 74ms/step - loss: 0.1425 - acc: 0.9574\n",
            "1378/1378 [==============================] - 166s 120ms/step - loss: 0.1045 - acc: 0.9670 - val_loss: 0.1425 - val_acc: 0.9574\n",
            "Epoch 30/40\n",
            "345/345 [==============================] - 25s 73ms/step - loss: 0.1332 - acc: 0.9559\n",
            "1378/1378 [==============================] - 164s 119ms/step - loss: 0.1031 - acc: 0.9675 - val_loss: 0.1332 - val_acc: 0.9559\n",
            "Epoch 31/40\n",
            "345/345 [==============================] - 25s 73ms/step - loss: 0.1124 - acc: 0.9624\n",
            "1378/1378 [==============================] - 163s 118ms/step - loss: 0.1025 - acc: 0.9679 - val_loss: 0.1124 - val_acc: 0.9624\n",
            "Epoch 32/40\n",
            "345/345 [==============================] - 25s 73ms/step - loss: 0.1296 - acc: 0.9564\n",
            "1378/1378 [==============================] - 162s 118ms/step - loss: 0.1053 - acc: 0.9681 - val_loss: 0.1296 - val_acc: 0.9564\n",
            "Epoch 33/40\n",
            "345/345 [==============================] - 25s 73ms/step - loss: 0.1087 - acc: 0.9612\n",
            "1378/1378 [==============================] - 162s 118ms/step - loss: 0.1023 - acc: 0.9679 - val_loss: 0.1087 - val_acc: 0.9612\n",
            "Epoch 34/40\n",
            "345/345 [==============================] - 25s 73ms/step - loss: 0.1361 - acc: 0.9577\n",
            "1378/1378 [==============================] - 162s 117ms/step - loss: 0.1021 - acc: 0.9678 - val_loss: 0.1361 - val_acc: 0.9577\n",
            "Epoch 35/40\n",
            "345/345 [==============================] - 25s 73ms/step - loss: 0.1237 - acc: 0.9613\n",
            "1378/1378 [==============================] - 162s 118ms/step - loss: 0.1004 - acc: 0.9678 - val_loss: 0.1237 - val_acc: 0.9613\n",
            "Epoch 36/40\n",
            "345/345 [==============================] - 25s 73ms/step - loss: 0.1322 - acc: 0.9610\n",
            "1378/1378 [==============================] - 161s 117ms/step - loss: 0.1032 - acc: 0.9680 - val_loss: 0.1322 - val_acc: 0.9610\n",
            "Epoch 37/40\n",
            "345/345 [==============================] - 25s 73ms/step - loss: 0.1222 - acc: 0.9574\n",
            "1378/1378 [==============================] - 162s 117ms/step - loss: 0.1011 - acc: 0.9683 - val_loss: 0.1222 - val_acc: 0.9574\n",
            "Epoch 38/40\n",
            "345/345 [==============================] - 25s 73ms/step - loss: 0.1367 - acc: 0.9535\n",
            "1378/1378 [==============================] - 162s 117ms/step - loss: 0.1027 - acc: 0.9683 - val_loss: 0.1367 - val_acc: 0.9535\n",
            "Epoch 39/40\n",
            "345/345 [==============================] - 25s 73ms/step - loss: 0.1337 - acc: 0.9552\n",
            "1378/1378 [==============================] - 162s 117ms/step - loss: 0.0993 - acc: 0.9695 - val_loss: 0.1337 - val_acc: 0.9552\n",
            "Epoch 40/40\n",
            "345/345 [==============================] - 25s 74ms/step - loss: 0.1251 - acc: 0.9544\n",
            "1378/1378 [==============================] - 162s 117ms/step - loss: 0.0994 - acc: 0.9687 - val_loss: 0.1251 - val_acc: 0.9544\n"
          ],
          "name": "stdout"
        }
      ]
    },
    {
      "cell_type": "code",
      "metadata": {
        "id": "dg1viO4cecLW",
        "colab_type": "code",
        "outputId": "d420bb56-41f7-45a0-da8a-c6dc63816e10",
        "colab": {
          "base_uri": "https://localhost:8080/",
          "height": 295
        }
      },
      "source": [
        "plt.plot(history.history['acc'])\n",
        "plt.plot(history.history['val_acc'])\n",
        "plt.title('model accuracy')\n",
        "plt.ylabel('accuracy')\n",
        "plt.xlabel('epoch')\n",
        "plt.legend(['train', 'test'], loc='upper left')\n",
        "plt.show()"
      ],
      "execution_count": 0,
      "outputs": [
        {
          "output_type": "display_data",
          "data": {
            "image/png": "[encoded data removed]",
            "text/plain": [
              "<Figure size 432x288 with 1 Axes>"
            ]
          },
          "metadata": {
            "tags": []
          }
        }
      ]
    },
    {
      "cell_type": "code",
      "metadata": {
        "id": "hUkVMeC9ef83",
        "colab_type": "code",
        "outputId": "d3c557e7-ca2d-4324-effb-e7e91afd87ff",
        "colab": {
          "base_uri": "https://localhost:8080/",
          "height": 295
        }
      },
      "source": [
        "plt.plot(history.history['loss'])\n",
        "plt.plot(history.history['val_loss'])\n",
        "plt.title('model loss')\n",
        "plt.ylabel('loss')\n",
        "plt.xlabel('epoch')\n",
        "plt.legend(['train', 'test'], loc='upper left')\n",
        "plt.show()"
      ],
      "execution_count": 0,
      "outputs": [
        {
          "output_type": "display_data",
          "data": {
            "image/png": "[encoded data removed]",
            "text/plain": [
              "<Figure size 432x288 with 1 Axes>"
            ]
          },
          "metadata": {
            "tags": []
          }
        }
      ]
    }
  ]
}