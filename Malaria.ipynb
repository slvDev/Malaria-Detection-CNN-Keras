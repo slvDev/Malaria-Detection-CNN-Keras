{
  "nbformat": 4,
  "nbformat_minor": 0,
  "metadata": {
    "colab": {
      "name": "Malaria.ipynb",
      "version": "0.3.2",
      "provenance": [],
      "collapsed_sections": [],
      "include_colab_link": true
    },
    "kernelspec": {
      "name": "python3",
      "display_name": "Python 3"
    },
    "accelerator": "GPU"
  },
  "cells": [
    {
      "cell_type": "markdown",
      "metadata": {
        "id": "view-in-github",
        "colab_type": "text"
      },
      "source": [
        "<a href=\"https://colab.research.google.com/github/slvDev/Malaria-Detection-CNN-Keras/blob/master/Malaria.ipynb\" target=\"_parent\"><img src=\"https://colab.research.google.com/assets/colab-badge.svg\" alt=\"Open In Colab\"/></a>"
      ]
    },
    {
      "cell_type": "code",
      "metadata": {
        "id": "tixRblK6ThvO",
        "colab_type": "code",
        "colab": {}
      },
      "source": [
        "import cv2\n",
        "import zipfile\n",
        "import matplotlib.pyplot as plt\n",
        "import matplotlib.image as mpimg\n",
        "import tensorflow as tf\n",
        "from tensorflow.keras.preprocessing.image import ImageDataGenerator\n",
        "from tensorflow.keras.optimizers import Adam, RMSprop, SGD"
      ],
      "execution_count": 0,
      "outputs": []
    },
    {
      "cell_type": "code",
      "metadata": {
        "id": "1az4zD3-TtFe",
        "colab_type": "code",
        "colab": {}
      },
      "source": [
        "# Load the Drive helper and mount\n",
        "from google.colab import drive\n",
        "\n",
        "# This will prompt for authorization.\n",
        "drive.mount('/content/drive')"
      ],
      "execution_count": 0,
      "outputs": []
    },
    {
      "cell_type": "code",
      "metadata": {
        "id": "ytl7i_XjTyyA",
        "colab_type": "code",
        "colab": {}
      },
      "source": [
        "zip_ref_train = zipfile.ZipFile(\"/content/drive/My Drive/cell-images-for-detecting-malaria.zip\", 'r')\n",
        "zip_ref_train.extractall(\"/content\")\n",
        "zip_ref_train.close()"
      ],
      "execution_count": 0,
      "outputs": []
    },
    {
      "cell_type": "code",
      "metadata": {
        "id": "bSYJfJHfT-6f",
        "colab_type": "code",
        "outputId": "536d3305-cf86-4e75-9b87-f377b3d7cdc2",
        "colab": {
          "base_uri": "https://localhost:8080/",
          "height": 269
        }
      },
      "source": [
        "img_size = 32\n",
        "dim = img_size, img_size\n",
        "img_path = '/content/cell_images/Parasitized/C100P61ThinF_IMG_20150918_144104_cell_162.png'\n",
        "img = cv2.imread(img_path)\n",
        "img = cv2.cvtColor(img, cv2.COLOR_BGR2RGB)\n",
        "img = cv2.resize(img, dim)\n",
        "plt.imshow(img)\n",
        "plt.show()"
      ],
      "execution_count": 33,
      "outputs": [
        {
          "output_type": "display_data",
          "data": {
            "image/png": "[encoded data removed]",
            "text/plain": [
              "<Figure size 432x288 with 1 Axes>"
            ]
          },
          "metadata": {
            "tags": []
          }
        }
      ]
    },
    {
      "cell_type": "code",
      "metadata": {
        "id": "gdj46E2dUUup",
        "colab_type": "code",
        "outputId": "0a17904e-1c3f-4997-e51c-f711a32d0061",
        "colab": {
          "base_uri": "https://localhost:8080/",
          "height": 51
        }
      },
      "source": [
        "train_datagen = ImageDataGenerator(\n",
        "        rescale=1./255,\n",
        "        rotation_range=90,\n",
        "        #shear_range=0.25,\n",
        "        #zoom_range=0.2,\n",
        "        vertical_flip=True,\n",
        "        horizontal_flip=True,\n",
        "        validation_split=0.2,\n",
        "        )\n",
        "\n",
        "train_generator = train_datagen.flow_from_directory(\n",
        "        '/content/cell_images',  \n",
        "        target_size=dim, \n",
        "        batch_size=32,\n",
        "        #color_mode='grayscale',\n",
        "        class_mode='binary',\n",
        "        subset='training',\n",
        "        )\n",
        "\n",
        "valid_generator = train_datagen.flow_from_directory(\n",
        "        '/content/cell_images',  \n",
        "        target_size=dim, \n",
        "        batch_size=32,\n",
        "        #color_mode='grayscale',\n",
        "        class_mode='binary',\n",
        "        subset='validation',\n",
        "        )"
      ],
      "execution_count": 0,
      "outputs": [
        {
          "output_type": "stream",
          "text": [
            "Found 22048 images belonging to 2 classes.\n",
            "Found 5510 images belonging to 2 classes.\n"
          ],
          "name": "stdout"
        }
      ]
    },
    {
      "cell_type": "code",
      "metadata": {
        "id": "0kp_ivMPVTQp",
        "colab_type": "code",
        "colab": {}
      },
      "source": [
        "model = tf.keras.models.Sequential([\n",
        "    tf.keras.layers.Conv2D(16, (3,3), activation='relu', padding='same', input_shape=(32, 32, 3)),\n",
        "    tf.keras.layers.BatchNormalization(),\n",
        "    tf.keras.layers.MaxPooling2D(2, 2),\n",
        "    \n",
        "    tf.keras.layers.Conv2D(32, (3,3), activation='relu', padding='same'),\n",
        "    tf.keras.layers.BatchNormalization(),\n",
        "    tf.keras.layers.MaxPooling2D(2, 2),\n",
        "    \n",
        "    tf.keras.layers.Conv2D(64, (3,3), activation='relu', padding='same'),\n",
        "    tf.keras.layers.BatchNormalization(),\n",
        "    tf.keras.layers.MaxPooling2D(2, 2),\n",
        "    \n",
        "    tf.keras.layers.Flatten(),    \n",
        "    #tf.keras.layers.Dropout(0.3),\n",
        "    \n",
        "    #tf.keras.layers.Dense(256, activation='relu'),    \n",
        "    tf.keras.layers.Dense(64, activation='relu'),\n",
        "    \n",
        "    tf.keras.layers.Dense(1, activation='sigmoid')\n",
        "])\n",
        "\n",
        "\n",
        "model.compile(loss='binary_crossentropy',\n",
        "              optimizer='adam',\n",
        "              metrics=['acc'])"
      ],
      "execution_count": 0,
      "outputs": []
    },
    {
      "cell_type": "code",
      "metadata": {
        "id": "kI4B33OyVWC-",
        "colab_type": "code",
        "colab": {}
      },
      "source": [
        "model.summary()"
      ],
      "execution_count": 0,
      "outputs": []
    },
    {
      "cell_type": "code",
      "metadata": {
        "id": "W9YR0I4gVZpm",
        "colab_type": "code",
        "outputId": "1bc1bfd0-5197-4e4c-d23b-6ec2f3544a16",
        "colab": {
          "base_uri": "https://localhost:8080/",
          "height": 1037
        }
      },
      "source": [
        "history = model.fit_generator(\n",
        "        train_generator,\n",
        "        epochs=20,\n",
        "        validation_data=valid_generator,\n",
        "        )"
      ],
      "execution_count": 0,
      "outputs": [
        {
          "output_type": "stream",
          "text": [
            "Epoch 1/20\n",
            "173/173 [==============================] - 9s 54ms/step - loss: 0.2380 - acc: 0.9045\n",
            "689/689 [==============================] - 61s 89ms/step - loss: 0.3487 - acc: 0.8432 - val_loss: 0.2380 - val_acc: 0.9045\n",
            "Epoch 2/20\n",
            "173/173 [==============================] - 9s 54ms/step - loss: 0.1901 - acc: 0.9345\n",
            "689/689 [==============================] - 60s 88ms/step - loss: 0.1603 - acc: 0.9480 - val_loss: 0.1901 - val_acc: 0.9345\n",
            "Epoch 3/20\n",
            "173/173 [==============================] - 10s 55ms/step - loss: 0.2232 - acc: 0.9136\n",
            "689/689 [==============================] - 61s 89ms/step - loss: 0.1439 - acc: 0.9544 - val_loss: 0.2232 - val_acc: 0.9136\n",
            "Epoch 4/20\n",
            "173/173 [==============================] - 9s 54ms/step - loss: 0.1610 - acc: 0.9421\n",
            "689/689 [==============================] - 61s 89ms/step - loss: 0.1384 - acc: 0.9556 - val_loss: 0.1610 - val_acc: 0.9421\n",
            "Epoch 5/20\n",
            "173/173 [==============================] - 9s 53ms/step - loss: 0.1656 - acc: 0.9428\n",
            "689/689 [==============================] - 61s 88ms/step - loss: 0.1322 - acc: 0.9559 - val_loss: 0.1656 - val_acc: 0.9428\n",
            "Epoch 6/20\n",
            "173/173 [==============================] - 10s 55ms/step - loss: 0.1484 - acc: 0.9437\n",
            "689/689 [==============================] - 61s 89ms/step - loss: 0.1272 - acc: 0.9585 - val_loss: 0.1484 - val_acc: 0.9437\n",
            "Epoch 7/20\n",
            "173/173 [==============================] - 9s 54ms/step - loss: 0.1418 - acc: 0.9485\n",
            "689/689 [==============================] - 61s 88ms/step - loss: 0.1234 - acc: 0.9591 - val_loss: 0.1418 - val_acc: 0.9485\n",
            "Epoch 8/20\n",
            "173/173 [==============================] - 9s 54ms/step - loss: 0.1405 - acc: 0.9515\n",
            "689/689 [==============================] - 61s 88ms/step - loss: 0.1217 - acc: 0.9589 - val_loss: 0.1405 - val_acc: 0.9515\n",
            "Epoch 9/20\n",
            "173/173 [==============================] - 9s 53ms/step - loss: 0.1471 - acc: 0.9495\n",
            "689/689 [==============================] - 60s 88ms/step - loss: 0.1167 - acc: 0.9614 - val_loss: 0.1471 - val_acc: 0.9495\n",
            "Epoch 10/20\n",
            "173/173 [==============================] - 9s 54ms/step - loss: 0.1686 - acc: 0.9485\n",
            "689/689 [==============================] - 61s 88ms/step - loss: 0.1155 - acc: 0.9605 - val_loss: 0.1686 - val_acc: 0.9485\n",
            "Epoch 11/20\n",
            "173/173 [==============================] - 9s 53ms/step - loss: 0.2142 - acc: 0.9377\n",
            "689/689 [==============================] - 61s 88ms/step - loss: 0.1143 - acc: 0.9617 - val_loss: 0.2142 - val_acc: 0.9377\n",
            "Epoch 12/20\n",
            "173/173 [==============================] - 9s 53ms/step - loss: 0.1447 - acc: 0.9512\n",
            "689/689 [==============================] - 61s 88ms/step - loss: 0.1116 - acc: 0.9624 - val_loss: 0.1447 - val_acc: 0.9512\n",
            "Epoch 13/20\n",
            "173/173 [==============================] - 9s 55ms/step - loss: 0.1421 - acc: 0.9505\n",
            "689/689 [==============================] - 61s 88ms/step - loss: 0.1106 - acc: 0.9631 - val_loss: 0.1421 - val_acc: 0.9505\n",
            "Epoch 14/20\n",
            "173/173 [==============================] - 9s 54ms/step - loss: 0.1475 - acc: 0.9477\n",
            "689/689 [==============================] - 61s 88ms/step - loss: 0.1126 - acc: 0.9626 - val_loss: 0.1475 - val_acc: 0.9477\n",
            "Epoch 15/20\n",
            "173/173 [==============================] - 9s 53ms/step - loss: 0.1437 - acc: 0.9479\n",
            "689/689 [==============================] - 61s 88ms/step - loss: 0.1098 - acc: 0.9621 - val_loss: 0.1437 - val_acc: 0.9479\n",
            "Epoch 16/20\n",
            "173/173 [==============================] - 9s 54ms/step - loss: 0.1265 - acc: 0.9497\n",
            "689/689 [==============================] - 61s 89ms/step - loss: 0.1093 - acc: 0.9623 - val_loss: 0.1265 - val_acc: 0.9497\n",
            "Epoch 17/20\n",
            "173/173 [==============================] - 9s 53ms/step - loss: 0.1466 - acc: 0.9472\n",
            "689/689 [==============================] - 60s 88ms/step - loss: 0.1080 - acc: 0.9641 - val_loss: 0.1466 - val_acc: 0.9472\n",
            "Epoch 18/20\n",
            "173/173 [==============================] - 10s 55ms/step - loss: 0.1306 - acc: 0.9530\n",
            "689/689 [==============================] - 61s 88ms/step - loss: 0.1070 - acc: 0.9632 - val_loss: 0.1306 - val_acc: 0.9530\n",
            "Epoch 19/20\n",
            "173/173 [==============================] - 9s 53ms/step - loss: 0.1372 - acc: 0.9501\n",
            "689/689 [==============================] - 60s 87ms/step - loss: 0.1053 - acc: 0.9634 - val_loss: 0.1372 - val_acc: 0.9501\n",
            "Epoch 20/20\n",
            "173/173 [==============================] - 9s 53ms/step - loss: 0.1898 - acc: 0.9367\n",
            "689/689 [==============================] - 60s 88ms/step - loss: 0.1068 - acc: 0.9644 - val_loss: 0.1898 - val_acc: 0.9367\n"
          ],
          "name": "stdout"
        }
      ]
    },
    {
      "cell_type": "code",
      "metadata": {
        "id": "dg1viO4cecLW",
        "colab_type": "code",
        "outputId": "436710aa-4839-4690-c11c-eca4703a3f28",
        "colab": {
          "base_uri": "https://localhost:8080/",
          "height": 315
        }
      },
      "source": [
        "plt.plot(history.history['acc'])\n",
        "plt.plot(history.history['val_acc'])\n",
        "plt.title('model accuracy')\n",
        "plt.ylabel('accuracy')\n",
        "plt.xlabel('epoch')\n",
        "plt.legend(['train', 'test'], loc='upper left')\n",
        "plt.show()"
      ],
      "execution_count": 0,
      "outputs": [
        {
          "output_type": "display_data",
          "data": {
            "image/png": "[encoded data removed]",
            "text/plain": [
              "<Figure size 432x288 with 1 Axes>"
            ]
          },
          "metadata": {
            "tags": []
          }
        }
      ]
    },
    {
      "cell_type": "code",
      "metadata": {
        "id": "hUkVMeC9ef83",
        "colab_type": "code",
        "outputId": "1c260143-9308-4dbf-d7a0-4f136b6de990",
        "colab": {
          "base_uri": "https://localhost:8080/",
          "height": 315
        }
      },
      "source": [
        "plt.plot(history.history['loss'])\n",
        "plt.plot(history.history['val_loss'])\n",
        "plt.title('model loss')\n",
        "plt.ylabel('loss')\n",
        "plt.xlabel('epoch')\n",
        "plt.legend(['train', 'test'], loc='upper left')\n",
        "plt.show()"
      ],
      "execution_count": 0,
      "outputs": [
        {
          "output_type": "display_data",
          "data": {
            "image/png": "[encoded data removed]",
            "text/plain": [
              "<Figure size 432x288 with 1 Axes>"
            ]
          },
          "metadata": {
            "tags": []
          }
        }
      ]
    }
  ]
}